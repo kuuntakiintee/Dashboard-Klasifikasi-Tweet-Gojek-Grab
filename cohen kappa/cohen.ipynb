{
 "cells": [
  {
   "cell_type": "code",
   "execution_count": 5,
   "id": "ab107d39",
   "metadata": {},
   "outputs": [
    {
     "data": {
      "text/html": [
       "<div>\n",
       "<style scoped>\n",
       "    .dataframe tbody tr th:only-of-type {\n",
       "        vertical-align: middle;\n",
       "    }\n",
       "\n",
       "    .dataframe tbody tr th {\n",
       "        vertical-align: top;\n",
       "    }\n",
       "\n",
       "    .dataframe thead th {\n",
       "        text-align: right;\n",
       "    }\n",
       "</style>\n",
       "<table border=\"1\" class=\"dataframe\">\n",
       "  <thead>\n",
       "    <tr style=\"text-align: right;\">\n",
       "      <th></th>\n",
       "      <th>full_text</th>\n",
       "    </tr>\n",
       "  </thead>\n",
       "  <tbody>\n",
       "    <tr>\n",
       "      <th>0</th>\n",
       "      <td>@ovo_id beli paket data akrab XL 60 ribu dapet...</td>\n",
       "    </tr>\n",
       "    <tr>\n",
       "      <th>1</th>\n",
       "      <td>@grumpym00d Pake gopay bisa itu coba aja cari ...</td>\n",
       "    </tr>\n",
       "    <tr>\n",
       "      <th>2</th>\n",
       "      <td>baru tau kalo gojek bisa gratis gitu</td>\n",
       "    </tr>\n",
       "    <tr>\n",
       "      <th>3</th>\n",
       "      <td>@CNNIndonesia jgn mudah percaya. dia kaya puny...</td>\n",
       "    </tr>\n",
       "    <tr>\n",
       "      <th>4</th>\n",
       "      <td>guys akun gopay aku tiba tiba ke blokir padaha...</td>\n",
       "    </tr>\n",
       "  </tbody>\n",
       "</table>\n",
       "</div>"
      ],
      "text/plain": [
       "                                           full_text\n",
       "0  @ovo_id beli paket data akrab XL 60 ribu dapet...\n",
       "1  @grumpym00d Pake gopay bisa itu coba aja cari ...\n",
       "2               baru tau kalo gojek bisa gratis gitu\n",
       "3  @CNNIndonesia jgn mudah percaya. dia kaya puny...\n",
       "4  guys akun gopay aku tiba tiba ke blokir padaha..."
      ]
     },
     "execution_count": 5,
     "metadata": {},
     "output_type": "execute_result"
    }
   ],
   "source": [
    "import pandas as pd\n",
    "df_combined = pd.read_csv('sample_300 cohen.csv')\n",
    "df_combined.head()"
   ]
  },
  {
   "cell_type": "code",
   "execution_count": 4,
   "id": "8e155a26",
   "metadata": {},
   "outputs": [
    {
     "name": "stdout",
     "output_type": "stream",
     "text": [
      "INFO: 'full_text' di semua file terverifikasi identik. Melanjutkan analisis...\n",
      "\n",
      "--- Validator 1 vs. Validator 2 ---\n",
      "Total Data: 300\n",
      "Jumlah Perbedaan: 11\n",
      "Tingkat Kesepakatan: 96.33%\n",
      "Cohen's Kappa (κ): 0.9507\n",
      "\n",
      "--- Validator 1 vs. Validator 3 ---\n",
      "Total Data: 300\n",
      "Jumlah Perbedaan: 14\n",
      "Tingkat Kesepakatan: 95.33%\n",
      "Cohen's Kappa (κ): 0.9373\n",
      "\n",
      "--- Validator 2 vs. Validator 3 ---\n",
      "Total Data: 300\n",
      "Jumlah Perbedaan: 19\n",
      "Tingkat Kesepakatan: 93.67%\n",
      "Cohen's Kappa (κ): 0.9149\n"
     ]
    }
   ],
   "source": [
    "import pandas as pd\n",
    "from sklearn.metrics import cohen_kappa_score\n",
    "\n",
    "def analyze_agreement(labels1, labels2, name1, name2):\n",
    "    \n",
    "    disagreements = (labels1 != labels2).sum()\n",
    "    agreement_pct = (labels1 == labels2).sum() / len(labels1)\n",
    "    \n",
    "    kappa = cohen_kappa_score(labels1, labels2)\n",
    "    \n",
    "    print(f\"\\n--- {name1} vs. {name2} ---\")\n",
    "    print(f\"Total Data: {len(labels1)}\")\n",
    "    print(f\"Jumlah Perbedaan: {disagreements}\")\n",
    "    print(f\"Tingkat Kesepakatan: {agreement_pct:.2%}\")\n",
    "    print(f\"Cohen's Kappa (κ): {kappa:.4f}\")\n",
    "\n",
    "try:\n",
    "    file_v1 = \"sample_300 hans.csv\"\n",
    "    file_v2 = \"sample_300 lekrey.csv\" \n",
    "    file_v3 = \"sample_300 gaby.csv\"\n",
    "\n",
    "    df1 = pd.read_csv(file_v1)\n",
    "    df2 = pd.read_csv(file_v2)\n",
    "    df3 = pd.read_csv(file_v3)\n",
    "\n",
    "    if not (df1['full_text'].equals(df2['full_text']) and df1['full_text'].equals(df3['full_text'])):\n",
    "        print(\"PERINGATAN: Kolom 'full_text' tidak identik di semua file.\")\n",
    "        print(\"Pastikan Anda menggunakan file yang benar.\")\n",
    "        print(\"Analisis mungkin tidak valid.\")\n",
    "    \n",
    "    else:\n",
    "        print(\"INFO: 'full_text' di semua file terverifikasi identik. Melanjutkan analisis...\")\n",
    "\n",
    "        labels_v1 = df1['type']\n",
    "        labels_v2 = df2['type']\n",
    "        labels_v3 = df3['type']\n",
    "\n",
    "        analyze_agreement(labels_v1, labels_v2, \"Validator 1\", \"Validator 2\")\n",
    "        analyze_agreement(labels_v1, labels_v3, \"Validator 1\", \"Validator 3\")\n",
    "        analyze_agreement(labels_v2, labels_v3, \"Validator 2\", \"Validator 3\")\n",
    "\n",
    "except FileNotFoundError:\n",
    "    print(\"Error: Salah satu file tidak ditemukan. Pastikan nama file sudah benar.\")\n",
    "except Exception as e:\n",
    "    print(f\"Terjadi error: {e}\")\n",
    "    print(\"Pastikan file Anda memiliki kolom 'full_text' dan 'type'.\")"
   ]
  }
 ],
 "metadata": {
  "kernelspec": {
   "display_name": "Python 3",
   "language": "python",
   "name": "python3"
  },
  "language_info": {
   "codemirror_mode": {
    "name": "ipython",
    "version": 3
   },
   "file_extension": ".py",
   "mimetype": "text/x-python",
   "name": "python",
   "nbconvert_exporter": "python",
   "pygments_lexer": "ipython3",
   "version": "3.12.8"
  }
 },
 "nbformat": 4,
 "nbformat_minor": 5
}
